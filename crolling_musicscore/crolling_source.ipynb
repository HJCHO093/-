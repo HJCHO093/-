{
 "cells": [
  {
   "cell_type": "code",
   "execution_count": null,
   "metadata": {},
   "outputs": [],
   "source": [
    "import requests # 다운로드 미필요 standard library\n",
    "from bs4 import BeautifulSoup as bs #다운로드 pip install bs4\n",
    "from selenium import webdriver as wb #다운로드 pip install selenium\n",
    "import os\n",
    "import numpy as np\n",
    "# os.chdir('악보파일/')\n",
    "if \"악보파일\" in os.listdir() !=True: # 악보파일이라는 폴더 생성\n",
    "    os.mkdir(\"악보파일\")\n",
    "# https://sheetmusic-free.com/라는 무료 pdf악보 다운사이트를 찾음\n",
    "# 이 악보사이트의 다운로드 url을 분석\n",
    "# 다운로드 url 패턴은 다음과 같았음\n",
    "#   패턴 : https://sheetmusictop.com/download/ + 숫자 \n",
    "# 그리고 숫자는 6000번대에서 10000번대에 몰려있는것으로 관찰.\n",
    "# 그리고 숫자가 3간격으로 정상 file down 링크가 배치되어있는 패턴을 발견\n",
    "\n",
    "# 따라서 다음의 코드를 통해 6000~9000번대 다운로드 url을 탐색.\n",
    "ranges = np.arange(6000, 10000, 3) # 6000부터 10000까지 원소마다 3의 간격이 존재하는 넘파이 배열 생성\n",
    "for number in ranges: \n",
    "    a = requests.get(\"https://sheetmusictop.com/download/%s\" %number)\n",
    "    if a.status_code ==200: # HTTP Request 상태코드가 200(정상)이면 다운로드\n",
    "        with open('%sth.pdf'%number,'wb') as f:\n",
    "            f.write(a.content)\n",
    "        print(\"download_success!! %s\" %number)\n",
    "    else:  # HTTP Request 상태코드가 비정상이면 fail메세지 출력 및 for문 다음 회차로 스와핑\n",
    "        print(\"the number %s ___ fail!!!\" %number)\n",
    "    "
   ]
  }
 ],
 "metadata": {
  "language_info": {
   "name": "python"
  },
  "orig_nbformat": 4
 },
 "nbformat": 4,
 "nbformat_minor": 2
}
