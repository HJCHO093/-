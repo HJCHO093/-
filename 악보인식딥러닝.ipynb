{
 "cells": [
  {
   "attachments": {},
   "cell_type": "markdown",
   "metadata": {},
   "source": [
    "### 필요라이브러리 불러오기"
   ]
  },
  {
   "cell_type": "code",
   "execution_count": 1,
   "metadata": {},
   "outputs": [],
   "source": [
    "import keras\n",
    "import os\n",
    "import numpy as np\n",
    "import pandas as pd\n",
    "import collections\n",
    "import pdf2image\n",
    "from keras.preprocessing import image\n",
    "import cv2 \n",
    "import matplotlib.pyplot as plt\n",
    "import time\n",
    "import datetime\n",
    "from keras.models import Sequential\n",
    "from keras.layers import Conv2D, MaxPooling2D, Flatten, Dense, Dropout\n",
    "from keras.utils import to_categorical\n",
    "import xml.etree.ElementTree as elemTree\n",
    "import numpy as np"
   ]
  },
  {
   "cell_type": "code",
   "execution_count": 183,
   "metadata": {},
   "outputs": [
    {
     "name": "stdout",
     "output_type": "stream",
     "text": [
      "[ 952 1204]\n",
      "(952, 1204)\n",
      "(952, 1204) \n",
      "\n",
      "\n",
      "(677, 1094)\n",
      "(952, 1204) \n",
      "\n",
      "\n",
      "(677, 1097)\n",
      "(952, 1204) \n",
      "\n",
      "\n",
      "dict_values([[187, 56, 293, 253, 0]])\n"
     ]
    },
    {
     "ename": "ResourceExhaustedError",
     "evalue": "OOM when allocating tensor with shape[4516096,60] and type float on /job:localhost/replica:0/task:0/device:CPU:0 by allocator cpu [Op:AddV2]",
     "output_type": "error",
     "traceback": [
      "\u001b[1;31m---------------------------------------------------------------------------\u001b[0m",
      "\u001b[1;31mResourceExhaustedError\u001b[0m                    Traceback (most recent call last)",
      "\u001b[1;32mc:\\형종\\악보인식딥러닝.ipynb 셀 3\u001b[0m in \u001b[0;36m<cell line: 54>\u001b[1;34m()\u001b[0m\n\u001b[0;32m     <a href='vscode-notebook-cell:/c%3A/%ED%98%95%EC%A2%85/%EC%95%85%EB%B3%B4%EC%9D%B8%EC%8B%9D%EB%94%A5%EB%9F%AC%EB%8B%9D.ipynb#X12sZmlsZQ%3D%3D?line=51'>52</a>\u001b[0m model\u001b[39m.\u001b[39madd(MaxPooling2D(pool_size\u001b[39m=\u001b[39m(\u001b[39m2\u001b[39m, \u001b[39m2\u001b[39m)))\n\u001b[0;32m     <a href='vscode-notebook-cell:/c%3A/%ED%98%95%EC%A2%85/%EC%95%85%EB%B3%B4%EC%9D%B8%EC%8B%9D%EB%94%A5%EB%9F%AC%EB%8B%9D.ipynb#X12sZmlsZQ%3D%3D?line=52'>53</a>\u001b[0m model\u001b[39m.\u001b[39madd(Flatten())\n\u001b[1;32m---> <a href='vscode-notebook-cell:/c%3A/%ED%98%95%EC%A2%85/%EC%95%85%EB%B3%B4%EC%9D%B8%EC%8B%9D%EB%94%A5%EB%9F%AC%EB%8B%9D.ipynb#X12sZmlsZQ%3D%3D?line=53'>54</a>\u001b[0m model\u001b[39m.\u001b[39;49madd(Dense(\u001b[39m60\u001b[39;49m, activation\u001b[39m=\u001b[39;49m\u001b[39m'\u001b[39;49m\u001b[39mrelu\u001b[39;49m\u001b[39m'\u001b[39;49m))\n\u001b[0;32m     <a href='vscode-notebook-cell:/c%3A/%ED%98%95%EC%A2%85/%EC%95%85%EB%B3%B4%EC%9D%B8%EC%8B%9D%EB%94%A5%EB%9F%AC%EB%8B%9D.ipynb#X12sZmlsZQ%3D%3D?line=54'>55</a>\u001b[0m model\u001b[39m.\u001b[39madd(Dense(\u001b[39m5\u001b[39m, activation\u001b[39m=\u001b[39m\u001b[39m'\u001b[39m\u001b[39msigmoid\u001b[39m\u001b[39m'\u001b[39m))\n\u001b[0;32m     <a href='vscode-notebook-cell:/c%3A/%ED%98%95%EC%A2%85/%EC%95%85%EB%B3%B4%EC%9D%B8%EC%8B%9D%EB%94%A5%EB%9F%AC%EB%8B%9D.ipynb#X12sZmlsZQ%3D%3D?line=56'>57</a>\u001b[0m model\u001b[39m.\u001b[39mcompile(optimizer\u001b[39m=\u001b[39m\u001b[39m'\u001b[39m\u001b[39madam\u001b[39m\u001b[39m'\u001b[39m,\n\u001b[0;32m     <a href='vscode-notebook-cell:/c%3A/%ED%98%95%EC%A2%85/%EC%95%85%EB%B3%B4%EC%9D%B8%EC%8B%9D%EB%94%A5%EB%9F%AC%EB%8B%9D.ipynb#X12sZmlsZQ%3D%3D?line=57'>58</a>\u001b[0m               loss\u001b[39m=\u001b[39myolo_loss,\n\u001b[0;32m     <a href='vscode-notebook-cell:/c%3A/%ED%98%95%EC%A2%85/%EC%95%85%EB%B3%B4%EC%9D%B8%EC%8B%9D%EB%94%A5%EB%9F%AC%EB%8B%9D.ipynb#X12sZmlsZQ%3D%3D?line=58'>59</a>\u001b[0m               metrics\u001b[39m=\u001b[39m[\u001b[39m'\u001b[39m\u001b[39maccuracy\u001b[39m\u001b[39m'\u001b[39m])\n",
      "File \u001b[1;32mc:\\Users\\qhfkd\\anaconda3\\lib\\site-packages\\tensorflow\\python\\training\\tracking\\base.py:587\u001b[0m, in \u001b[0;36mno_automatic_dependency_tracking.<locals>._method_wrapper\u001b[1;34m(self, *args, **kwargs)\u001b[0m\n\u001b[0;32m    585\u001b[0m \u001b[39mself\u001b[39m\u001b[39m.\u001b[39m_self_setattr_tracking \u001b[39m=\u001b[39m \u001b[39mFalse\u001b[39;00m  \u001b[39m# pylint: disable=protected-access\u001b[39;00m\n\u001b[0;32m    586\u001b[0m \u001b[39mtry\u001b[39;00m:\n\u001b[1;32m--> 587\u001b[0m   result \u001b[39m=\u001b[39m method(\u001b[39mself\u001b[39m, \u001b[39m*\u001b[39margs, \u001b[39m*\u001b[39m\u001b[39m*\u001b[39mkwargs)\n\u001b[0;32m    588\u001b[0m \u001b[39mfinally\u001b[39;00m:\n\u001b[0;32m    589\u001b[0m   \u001b[39mself\u001b[39m\u001b[39m.\u001b[39m_self_setattr_tracking \u001b[39m=\u001b[39m previous_value  \u001b[39m# pylint: disable=protected-access\u001b[39;00m\n",
      "File \u001b[1;32mc:\\Users\\qhfkd\\anaconda3\\lib\\site-packages\\keras\\utils\\traceback_utils.py:67\u001b[0m, in \u001b[0;36mfilter_traceback.<locals>.error_handler\u001b[1;34m(*args, **kwargs)\u001b[0m\n\u001b[0;32m     65\u001b[0m \u001b[39mexcept\u001b[39;00m \u001b[39mException\u001b[39;00m \u001b[39mas\u001b[39;00m e:  \u001b[39m# pylint: disable=broad-except\u001b[39;00m\n\u001b[0;32m     66\u001b[0m   filtered_tb \u001b[39m=\u001b[39m _process_traceback_frames(e\u001b[39m.\u001b[39m__traceback__)\n\u001b[1;32m---> 67\u001b[0m   \u001b[39mraise\u001b[39;00m e\u001b[39m.\u001b[39mwith_traceback(filtered_tb) \u001b[39mfrom\u001b[39;00m \u001b[39mNone\u001b[39m\n\u001b[0;32m     68\u001b[0m \u001b[39mfinally\u001b[39;00m:\n\u001b[0;32m     69\u001b[0m   \u001b[39mdel\u001b[39;00m filtered_tb\n",
      "File \u001b[1;32mc:\\Users\\qhfkd\\anaconda3\\lib\\site-packages\\keras\\backend.py:1920\u001b[0m, in \u001b[0;36mRandomGenerator.random_uniform\u001b[1;34m(self, shape, minval, maxval, dtype)\u001b[0m\n\u001b[0;32m   1917\u001b[0m \u001b[39mif\u001b[39;00m \u001b[39mself\u001b[39m\u001b[39m.\u001b[39m_generator:\n\u001b[0;32m   1918\u001b[0m   \u001b[39mreturn\u001b[39;00m \u001b[39mself\u001b[39m\u001b[39m.\u001b[39m_generator\u001b[39m.\u001b[39muniform(\n\u001b[0;32m   1919\u001b[0m       shape\u001b[39m=\u001b[39mshape, minval\u001b[39m=\u001b[39mminval, maxval\u001b[39m=\u001b[39mmaxval, dtype\u001b[39m=\u001b[39mdtype)\n\u001b[1;32m-> 1920\u001b[0m \u001b[39mreturn\u001b[39;00m tf\u001b[39m.\u001b[39;49mrandom\u001b[39m.\u001b[39;49muniform(\n\u001b[0;32m   1921\u001b[0m     shape\u001b[39m=\u001b[39;49mshape, minval\u001b[39m=\u001b[39;49mminval, maxval\u001b[39m=\u001b[39;49mmaxval, dtype\u001b[39m=\u001b[39;49mdtype,\n\u001b[0;32m   1922\u001b[0m     seed\u001b[39m=\u001b[39;49m\u001b[39mself\u001b[39;49m\u001b[39m.\u001b[39;49mmake_legacy_seed())\n",
      "\u001b[1;31mResourceExhaustedError\u001b[0m: OOM when allocating tensor with shape[4516096,60] and type float on /job:localhost/replica:0/task:0/device:CPU:0 by allocator cpu [Op:AddV2]"
     ]
    }
   ],
   "source": [
    "y_data = []\n",
    "y_names = []\n",
    "max_shape = []\n",
    "for n in range(1,4):\n",
    "    \n",
    "    tree = elemTree.parse(\"./resource/scoreImg/random%s.xml\"%n)\n",
    "    sizeInfo = tree.find(\"./size\")\n",
    "    width = sizeInfo.find(\"./width\").text\n",
    "    height = sizeInfo.find(\"./height\").text\n",
    "    max_shape.append([height, width])\n",
    "    inner_data = []\n",
    "    for object in tree.findall(\"./object\"):\n",
    "        data ={}\n",
    "        name = object.find('name').text\n",
    "        if name not in y_names:\n",
    "            y_names.append(name)\n",
    "        bndbox = object.find('bndbox')\n",
    "        xmin = int(bndbox.find(\"./xmin\").text)\n",
    "        ymin = int(bndbox.find(\"./ymin\").text)\n",
    "        xmax = int(bndbox.find(\"./xmax\").text)\n",
    "        ymax = int(bndbox.find(\"./ymax\").text)\n",
    "        data[\"bbox\"] = [xmin, ymin, xmax, ymax, y_names.index(name)]\n",
    "        inner_data.append(data)\n",
    "    y_data.append(inner_data)\n",
    "num_classes = len(y_names)\n",
    "max_shape = np.array(max_shape).astype(int)\n",
    "max_shape = np.max(max_shape, axis = 0)\n",
    "print(\"맥스\",max_shape)\n",
    "img_list= []\n",
    "for n in range(1,4):\n",
    "    img = cv2.imread(\"./resource/scoreImg/random%s.png\"%n, cv2.IMREAD_GRAYSCALE)\n",
    "    img = np.where(img > 127, 0, 255)\n",
    "    print(img.shape)\n",
    "    if img.shape[0] < max_shape[0]:\n",
    "        diff = max_shape[0]-img.shape[0]\n",
    "        img = np.concatenate([img, np.zeros((diff,img.shape[1]))], axis = 0)\n",
    "    if img.shape[1] < max_shape[1]:\n",
    "        diff = max_shape[1]-img.shape[1]\n",
    "        img = np.concatenate([img, np.zeros((img.shape[0], diff))], axis = 1)\n",
    "    print(img.shape, '\\n\\n')\n",
    "    img_list.append(img)\n",
    "print(y_data[0][0].values())\n",
    "for i in range(len(y_data)):\n",
    "    y_data[i] = np.array([np.array(list(d.values())) for d in y_data[i]])\n",
    "# plt.imshow(np.resize(img, (800,1100)))\n",
    "\n",
    "\n",
    "model = Sequential()\n",
    "model.add(Conv2D(32, kernel_size=(3, 3), activation='relu', input_shape=(max_shape[0], max_shape[1], 1)))\n",
    "model.add(MaxPooling2D(pool_size=(2, 2)))\n",
    "model.add(Conv2D(64, kernel_size=(3, 3), activation='relu'))\n",
    "model.add(MaxPooling2D(pool_size=(2, 2)))\n",
    "model.add(Flatten())\n",
    "model.add(Dense(128, activation='relu'))\n",
    "model.add(Dense(5, activation='sigmoid'))\n",
    "\n",
    "model.compile(optimizer='adam',\n",
    "              loss=yolo_loss,\n",
    "              metrics=['accuracy'])\n",
    "\n",
    "# history = model.fit(train_ds, validation_data=val_ds, epochs=10)"
   ]
  },
  {
   "cell_type": "code",
   "execution_count": 128,
   "metadata": {},
   "outputs": [],
   "source": [
    "x_data = np.random.rand(10, 10) # 10개의 샘플을 가진 입력 데이터\n",
    "y1_data = np.random.rand(10, 1) # 첫 번째 출력 값\n",
    "y2_data = np.random.rand(10, 1) # 두 번째 출력 값\n",
    "y_data = (y1_data, y2_data)"
   ]
  },
  {
   "cell_type": "code",
   "execution_count": 131,
   "metadata": {},
   "outputs": [
    {
     "data": {
      "text/plain": [
       "array([[0.03367411, 0.51128272, 0.15991132, 0.3081908 , 0.68810003,\n",
       "        0.6839447 , 0.49587453, 0.91002878, 0.4758665 , 0.2066778 ],\n",
       "       [0.43242113, 0.96366866, 0.26927961, 0.68299468, 0.4181779 ,\n",
       "        0.17635523, 0.38564657, 0.92019359, 0.19540946, 0.10220595],\n",
       "       [0.53425512, 0.43676093, 0.39056161, 0.50836512, 0.5296451 ,\n",
       "        0.62712274, 0.25107608, 0.48304638, 0.60732692, 0.81081329],\n",
       "       [0.86179332, 0.53187397, 0.26524139, 0.70233216, 0.2187104 ,\n",
       "        0.99580587, 0.21244938, 0.55372216, 0.06636947, 0.54490946],\n",
       "       [0.12037863, 0.05511964, 0.01805227, 0.05155868, 0.13052577,\n",
       "        0.33979988, 0.94589111, 0.63852765, 0.31979533, 0.6915263 ],\n",
       "       [0.81595062, 0.99433308, 0.08694209, 0.23112384, 0.83614048,\n",
       "        0.55141749, 0.15365059, 0.61463128, 0.43605938, 0.26886187],\n",
       "       [0.64212184, 0.53680557, 0.58272102, 0.00915595, 0.9543678 ,\n",
       "        0.18656727, 0.39805997, 0.29104867, 0.10674069, 0.26179472],\n",
       "       [0.14150001, 0.70317752, 0.60157808, 0.20910484, 0.82730057,\n",
       "        0.64350246, 0.63983657, 0.04204754, 0.42099439, 0.41408298],\n",
       "       [0.12665163, 0.29395211, 0.08034532, 0.70995698, 0.69553641,\n",
       "        0.63645462, 0.4477765 , 0.15928452, 0.39964766, 0.04184431],\n",
       "       [0.07316991, 0.84560605, 0.71048378, 0.47969611, 0.6497336 ,\n",
       "        0.71443972, 0.79955657, 0.3680584 , 0.05362535, 0.86185992]])"
      ]
     },
     "execution_count": 131,
     "metadata": {},
     "output_type": "execute_result"
    }
   ],
   "source": [
    "y1_data\n",
    "y_data\n",
    "x_data"
   ]
  },
  {
   "cell_type": "code",
   "execution_count": 179,
   "metadata": {},
   "outputs": [
    {
     "ename": "InvalidArgumentError",
     "evalue": "Graph execution error:\n\nDetected at node 'sparse_categorical_crossentropy/SparseSoftmaxCrossEntropyWithLogits/SparseSoftmaxCrossEntropyWithLogits' defined at (most recent call last):\n    File \"c:\\Users\\qhfkd\\anaconda3\\lib\\runpy.py\", line 197, in _run_module_as_main\n      return _run_code(code, main_globals, None,\n    File \"c:\\Users\\qhfkd\\anaconda3\\lib\\runpy.py\", line 87, in _run_code\n      exec(code, run_globals)\n    File \"c:\\Users\\qhfkd\\anaconda3\\lib\\site-packages\\ipykernel_launcher.py\", line 16, in <module>\n      app.launch_new_instance()\n    File \"c:\\Users\\qhfkd\\anaconda3\\lib\\site-packages\\traitlets\\config\\application.py\", line 846, in launch_instance\n      app.start()\n    File \"c:\\Users\\qhfkd\\anaconda3\\lib\\site-packages\\ipykernel\\kernelapp.py\", line 677, in start\n      self.io_loop.start()\n    File \"c:\\Users\\qhfkd\\anaconda3\\lib\\site-packages\\tornado\\platform\\asyncio.py\", line 199, in start\n      self.asyncio_loop.run_forever()\n    File \"c:\\Users\\qhfkd\\anaconda3\\lib\\asyncio\\base_events.py\", line 601, in run_forever\n      self._run_once()\n    File \"c:\\Users\\qhfkd\\anaconda3\\lib\\asyncio\\base_events.py\", line 1905, in _run_once\n      handle._run()\n    File \"c:\\Users\\qhfkd\\anaconda3\\lib\\asyncio\\events.py\", line 80, in _run\n      self._context.run(self._callback, *self._args)\n    File \"c:\\Users\\qhfkd\\anaconda3\\lib\\site-packages\\ipykernel\\kernelbase.py\", line 471, in dispatch_queue\n      await self.process_one()\n    File \"c:\\Users\\qhfkd\\anaconda3\\lib\\site-packages\\ipykernel\\kernelbase.py\", line 460, in process_one\n      await dispatch(*args)\n    File \"c:\\Users\\qhfkd\\anaconda3\\lib\\site-packages\\ipykernel\\kernelbase.py\", line 367, in dispatch_shell\n      await result\n    File \"c:\\Users\\qhfkd\\anaconda3\\lib\\site-packages\\ipykernel\\kernelbase.py\", line 662, in execute_request\n      reply_content = await reply_content\n    File \"c:\\Users\\qhfkd\\anaconda3\\lib\\site-packages\\ipykernel\\ipkernel.py\", line 360, in do_execute\n      res = shell.run_cell(code, store_history=store_history, silent=silent)\n    File \"c:\\Users\\qhfkd\\anaconda3\\lib\\site-packages\\ipykernel\\zmqshell.py\", line 532, in run_cell\n      return super().run_cell(*args, **kwargs)\n    File \"c:\\Users\\qhfkd\\anaconda3\\lib\\site-packages\\IPython\\core\\interactiveshell.py\", line 2863, in run_cell\n      result = self._run_cell(\n    File \"c:\\Users\\qhfkd\\anaconda3\\lib\\site-packages\\IPython\\core\\interactiveshell.py\", line 2909, in _run_cell\n      return runner(coro)\n    File \"c:\\Users\\qhfkd\\anaconda3\\lib\\site-packages\\IPython\\core\\async_helpers.py\", line 129, in _pseudo_sync_runner\n      coro.send(None)\n    File \"c:\\Users\\qhfkd\\anaconda3\\lib\\site-packages\\IPython\\core\\interactiveshell.py\", line 3106, in run_cell_async\n      has_raised = await self.run_ast_nodes(code_ast.body, cell_name,\n    File \"c:\\Users\\qhfkd\\anaconda3\\lib\\site-packages\\IPython\\core\\interactiveshell.py\", line 3309, in run_ast_nodes\n      if await self.run_code(code, result, async_=asy):\n    File \"c:\\Users\\qhfkd\\anaconda3\\lib\\site-packages\\IPython\\core\\interactiveshell.py\", line 3369, in run_code\n      exec(code_obj, self.user_global_ns, self.user_ns)\n    File \"C:\\Users\\qhfkd\\AppData\\Local\\Temp\\ipykernel_28772\\1695705505.py\", line 6, in <cell line: 6>\n      model.fit(new_img_list,np.array([1,2,3]))\n    File \"c:\\Users\\qhfkd\\anaconda3\\lib\\site-packages\\keras\\utils\\traceback_utils.py\", line 64, in error_handler\n      return fn(*args, **kwargs)\n    File \"c:\\Users\\qhfkd\\anaconda3\\lib\\site-packages\\keras\\engine\\training.py\", line 1409, in fit\n      tmp_logs = self.train_function(iterator)\n    File \"c:\\Users\\qhfkd\\anaconda3\\lib\\site-packages\\keras\\engine\\training.py\", line 1051, in train_function\n      return step_function(self, iterator)\n    File \"c:\\Users\\qhfkd\\anaconda3\\lib\\site-packages\\keras\\engine\\training.py\", line 1040, in step_function\n      outputs = model.distribute_strategy.run(run_step, args=(data,))\n    File \"c:\\Users\\qhfkd\\anaconda3\\lib\\site-packages\\keras\\engine\\training.py\", line 1030, in run_step\n      outputs = model.train_step(data)\n    File \"c:\\Users\\qhfkd\\anaconda3\\lib\\site-packages\\keras\\engine\\training.py\", line 890, in train_step\n      loss = self.compute_loss(x, y, y_pred, sample_weight)\n    File \"c:\\Users\\qhfkd\\anaconda3\\lib\\site-packages\\keras\\engine\\training.py\", line 948, in compute_loss\n      return self.compiled_loss(\n    File \"c:\\Users\\qhfkd\\anaconda3\\lib\\site-packages\\keras\\engine\\compile_utils.py\", line 201, in __call__\n      loss_value = loss_obj(y_t, y_p, sample_weight=sw)\n    File \"c:\\Users\\qhfkd\\anaconda3\\lib\\site-packages\\keras\\losses.py\", line 139, in __call__\n      losses = call_fn(y_true, y_pred)\n    File \"c:\\Users\\qhfkd\\anaconda3\\lib\\site-packages\\keras\\losses.py\", line 243, in call\n      return ag_fn(y_true, y_pred, **self._fn_kwargs)\n    File \"c:\\Users\\qhfkd\\anaconda3\\lib\\site-packages\\keras\\losses.py\", line 1860, in sparse_categorical_crossentropy\n      return backend.sparse_categorical_crossentropy(\n    File \"c:\\Users\\qhfkd\\anaconda3\\lib\\site-packages\\keras\\backend.py\", line 5238, in sparse_categorical_crossentropy\n      res = tf.nn.sparse_softmax_cross_entropy_with_logits(\nNode: 'sparse_categorical_crossentropy/SparseSoftmaxCrossEntropyWithLogits/SparseSoftmaxCrossEntropyWithLogits'\nReceived a label value of 3 which is outside the valid range of [0, 3).  Label values: 3 1 2\n\t [[{{node sparse_categorical_crossentropy/SparseSoftmaxCrossEntropyWithLogits/SparseSoftmaxCrossEntropyWithLogits}}]] [Op:__inference_train_function_2536]",
     "output_type": "error",
     "traceback": [
      "\u001b[1;31m---------------------------------------------------------------------------\u001b[0m",
      "\u001b[1;31mInvalidArgumentError\u001b[0m                      Traceback (most recent call last)",
      "\u001b[1;32mc:\\형종\\악보인식딥러닝.ipynb 셀 6\u001b[0m in \u001b[0;36m<cell line: 6>\u001b[1;34m()\u001b[0m\n\u001b[0;32m      <a href='vscode-notebook-cell:/c%3A/%ED%98%95%EC%A2%85/%EC%95%85%EB%B3%B4%EC%9D%B8%EC%8B%9D%EB%94%A5%EB%9F%AC%EB%8B%9D.ipynb#X26sZmlsZQ%3D%3D?line=3'>4</a>\u001b[0m    new_img_list\u001b[39m.\u001b[39mappend(i\u001b[39m.\u001b[39mastype(\u001b[39mint\u001b[39m))\n\u001b[0;32m      <a href='vscode-notebook-cell:/c%3A/%ED%98%95%EC%A2%85/%EC%95%85%EB%B3%B4%EC%9D%B8%EC%8B%9D%EB%94%A5%EB%9F%AC%EB%8B%9D.ipynb#X26sZmlsZQ%3D%3D?line=4'>5</a>\u001b[0m new_img_list \u001b[39m=\u001b[39m np\u001b[39m.\u001b[39marray(new_img_list)\n\u001b[1;32m----> <a href='vscode-notebook-cell:/c%3A/%ED%98%95%EC%A2%85/%EC%95%85%EB%B3%B4%EC%9D%B8%EC%8B%9D%EB%94%A5%EB%9F%AC%EB%8B%9D.ipynb#X26sZmlsZQ%3D%3D?line=5'>6</a>\u001b[0m model\u001b[39m.\u001b[39;49mfit(new_img_list,np\u001b[39m.\u001b[39;49marray([\u001b[39m1\u001b[39;49m,\u001b[39m2\u001b[39;49m,\u001b[39m3\u001b[39;49m]))\n",
      "File \u001b[1;32mc:\\Users\\qhfkd\\anaconda3\\lib\\site-packages\\keras\\utils\\traceback_utils.py:67\u001b[0m, in \u001b[0;36mfilter_traceback.<locals>.error_handler\u001b[1;34m(*args, **kwargs)\u001b[0m\n\u001b[0;32m     65\u001b[0m \u001b[39mexcept\u001b[39;00m \u001b[39mException\u001b[39;00m \u001b[39mas\u001b[39;00m e:  \u001b[39m# pylint: disable=broad-except\u001b[39;00m\n\u001b[0;32m     66\u001b[0m   filtered_tb \u001b[39m=\u001b[39m _process_traceback_frames(e\u001b[39m.\u001b[39m__traceback__)\n\u001b[1;32m---> 67\u001b[0m   \u001b[39mraise\u001b[39;00m e\u001b[39m.\u001b[39mwith_traceback(filtered_tb) \u001b[39mfrom\u001b[39;00m \u001b[39mNone\u001b[39m\n\u001b[0;32m     68\u001b[0m \u001b[39mfinally\u001b[39;00m:\n\u001b[0;32m     69\u001b[0m   \u001b[39mdel\u001b[39;00m filtered_tb\n",
      "File \u001b[1;32mc:\\Users\\qhfkd\\anaconda3\\lib\\site-packages\\tensorflow\\python\\eager\\execute.py:54\u001b[0m, in \u001b[0;36mquick_execute\u001b[1;34m(op_name, num_outputs, inputs, attrs, ctx, name)\u001b[0m\n\u001b[0;32m     52\u001b[0m \u001b[39mtry\u001b[39;00m:\n\u001b[0;32m     53\u001b[0m   ctx\u001b[39m.\u001b[39mensure_initialized()\n\u001b[1;32m---> 54\u001b[0m   tensors \u001b[39m=\u001b[39m pywrap_tfe\u001b[39m.\u001b[39mTFE_Py_Execute(ctx\u001b[39m.\u001b[39m_handle, device_name, op_name,\n\u001b[0;32m     55\u001b[0m                                       inputs, attrs, num_outputs)\n\u001b[0;32m     56\u001b[0m \u001b[39mexcept\u001b[39;00m core\u001b[39m.\u001b[39m_NotOkStatusException \u001b[39mas\u001b[39;00m e:\n\u001b[0;32m     57\u001b[0m   \u001b[39mif\u001b[39;00m name \u001b[39mis\u001b[39;00m \u001b[39mnot\u001b[39;00m \u001b[39mNone\u001b[39;00m:\n",
      "\u001b[1;31mInvalidArgumentError\u001b[0m: Graph execution error:\n\nDetected at node 'sparse_categorical_crossentropy/SparseSoftmaxCrossEntropyWithLogits/SparseSoftmaxCrossEntropyWithLogits' defined at (most recent call last):\n    File \"c:\\Users\\qhfkd\\anaconda3\\lib\\runpy.py\", line 197, in _run_module_as_main\n      return _run_code(code, main_globals, None,\n    File \"c:\\Users\\qhfkd\\anaconda3\\lib\\runpy.py\", line 87, in _run_code\n      exec(code, run_globals)\n    File \"c:\\Users\\qhfkd\\anaconda3\\lib\\site-packages\\ipykernel_launcher.py\", line 16, in <module>\n      app.launch_new_instance()\n    File \"c:\\Users\\qhfkd\\anaconda3\\lib\\site-packages\\traitlets\\config\\application.py\", line 846, in launch_instance\n      app.start()\n    File \"c:\\Users\\qhfkd\\anaconda3\\lib\\site-packages\\ipykernel\\kernelapp.py\", line 677, in start\n      self.io_loop.start()\n    File \"c:\\Users\\qhfkd\\anaconda3\\lib\\site-packages\\tornado\\platform\\asyncio.py\", line 199, in start\n      self.asyncio_loop.run_forever()\n    File \"c:\\Users\\qhfkd\\anaconda3\\lib\\asyncio\\base_events.py\", line 601, in run_forever\n      self._run_once()\n    File \"c:\\Users\\qhfkd\\anaconda3\\lib\\asyncio\\base_events.py\", line 1905, in _run_once\n      handle._run()\n    File \"c:\\Users\\qhfkd\\anaconda3\\lib\\asyncio\\events.py\", line 80, in _run\n      self._context.run(self._callback, *self._args)\n    File \"c:\\Users\\qhfkd\\anaconda3\\lib\\site-packages\\ipykernel\\kernelbase.py\", line 471, in dispatch_queue\n      await self.process_one()\n    File \"c:\\Users\\qhfkd\\anaconda3\\lib\\site-packages\\ipykernel\\kernelbase.py\", line 460, in process_one\n      await dispatch(*args)\n    File \"c:\\Users\\qhfkd\\anaconda3\\lib\\site-packages\\ipykernel\\kernelbase.py\", line 367, in dispatch_shell\n      await result\n    File \"c:\\Users\\qhfkd\\anaconda3\\lib\\site-packages\\ipykernel\\kernelbase.py\", line 662, in execute_request\n      reply_content = await reply_content\n    File \"c:\\Users\\qhfkd\\anaconda3\\lib\\site-packages\\ipykernel\\ipkernel.py\", line 360, in do_execute\n      res = shell.run_cell(code, store_history=store_history, silent=silent)\n    File \"c:\\Users\\qhfkd\\anaconda3\\lib\\site-packages\\ipykernel\\zmqshell.py\", line 532, in run_cell\n      return super().run_cell(*args, **kwargs)\n    File \"c:\\Users\\qhfkd\\anaconda3\\lib\\site-packages\\IPython\\core\\interactiveshell.py\", line 2863, in run_cell\n      result = self._run_cell(\n    File \"c:\\Users\\qhfkd\\anaconda3\\lib\\site-packages\\IPython\\core\\interactiveshell.py\", line 2909, in _run_cell\n      return runner(coro)\n    File \"c:\\Users\\qhfkd\\anaconda3\\lib\\site-packages\\IPython\\core\\async_helpers.py\", line 129, in _pseudo_sync_runner\n      coro.send(None)\n    File \"c:\\Users\\qhfkd\\anaconda3\\lib\\site-packages\\IPython\\core\\interactiveshell.py\", line 3106, in run_cell_async\n      has_raised = await self.run_ast_nodes(code_ast.body, cell_name,\n    File \"c:\\Users\\qhfkd\\anaconda3\\lib\\site-packages\\IPython\\core\\interactiveshell.py\", line 3309, in run_ast_nodes\n      if await self.run_code(code, result, async_=asy):\n    File \"c:\\Users\\qhfkd\\anaconda3\\lib\\site-packages\\IPython\\core\\interactiveshell.py\", line 3369, in run_code\n      exec(code_obj, self.user_global_ns, self.user_ns)\n    File \"C:\\Users\\qhfkd\\AppData\\Local\\Temp\\ipykernel_28772\\1695705505.py\", line 6, in <cell line: 6>\n      model.fit(new_img_list,np.array([1,2,3]))\n    File \"c:\\Users\\qhfkd\\anaconda3\\lib\\site-packages\\keras\\utils\\traceback_utils.py\", line 64, in error_handler\n      return fn(*args, **kwargs)\n    File \"c:\\Users\\qhfkd\\anaconda3\\lib\\site-packages\\keras\\engine\\training.py\", line 1409, in fit\n      tmp_logs = self.train_function(iterator)\n    File \"c:\\Users\\qhfkd\\anaconda3\\lib\\site-packages\\keras\\engine\\training.py\", line 1051, in train_function\n      return step_function(self, iterator)\n    File \"c:\\Users\\qhfkd\\anaconda3\\lib\\site-packages\\keras\\engine\\training.py\", line 1040, in step_function\n      outputs = model.distribute_strategy.run(run_step, args=(data,))\n    File \"c:\\Users\\qhfkd\\anaconda3\\lib\\site-packages\\keras\\engine\\training.py\", line 1030, in run_step\n      outputs = model.train_step(data)\n    File \"c:\\Users\\qhfkd\\anaconda3\\lib\\site-packages\\keras\\engine\\training.py\", line 890, in train_step\n      loss = self.compute_loss(x, y, y_pred, sample_weight)\n    File \"c:\\Users\\qhfkd\\anaconda3\\lib\\site-packages\\keras\\engine\\training.py\", line 948, in compute_loss\n      return self.compiled_loss(\n    File \"c:\\Users\\qhfkd\\anaconda3\\lib\\site-packages\\keras\\engine\\compile_utils.py\", line 201, in __call__\n      loss_value = loss_obj(y_t, y_p, sample_weight=sw)\n    File \"c:\\Users\\qhfkd\\anaconda3\\lib\\site-packages\\keras\\losses.py\", line 139, in __call__\n      losses = call_fn(y_true, y_pred)\n    File \"c:\\Users\\qhfkd\\anaconda3\\lib\\site-packages\\keras\\losses.py\", line 243, in call\n      return ag_fn(y_true, y_pred, **self._fn_kwargs)\n    File \"c:\\Users\\qhfkd\\anaconda3\\lib\\site-packages\\keras\\losses.py\", line 1860, in sparse_categorical_crossentropy\n      return backend.sparse_categorical_crossentropy(\n    File \"c:\\Users\\qhfkd\\anaconda3\\lib\\site-packages\\keras\\backend.py\", line 5238, in sparse_categorical_crossentropy\n      res = tf.nn.sparse_softmax_cross_entropy_with_logits(\nNode: 'sparse_categorical_crossentropy/SparseSoftmaxCrossEntropyWithLogits/SparseSoftmaxCrossEntropyWithLogits'\nReceived a label value of 3 which is outside the valid range of [0, 3).  Label values: 3 1 2\n\t [[{{node sparse_categorical_crossentropy/SparseSoftmaxCrossEntropyWithLogits/SparseSoftmaxCrossEntropyWithLogits}}]] [Op:__inference_train_function_2536]"
     ]
    }
   ],
   "source": [
    "new_img_list = []\n",
    "for i in img_list:\n",
    "   i = i.reshape(i.shape[0], i.shape[1], 1)\n",
    "   new_img_list.append(i.astype(int))\n",
    "new_img_list = np.array(new_img_list)\n",
    "model.fit(new_img_list,np.array([1,2,3]))"
   ]
  },
  {
   "cell_type": "code",
   "execution_count": 175,
   "metadata": {},
   "outputs": [
    {
     "name": "stdout",
     "output_type": "stream",
     "text": [
      "int32\n",
      "int32\n",
      "int32\n",
      "int32\n",
      "int32\n",
      "int32\n",
      "int32\n",
      "int32\n",
      "int32\n",
      "int32\n",
      "int32\n",
      "int32\n",
      "int32\n",
      "int32\n",
      "int32\n"
     ]
    },
    {
     "data": {
      "text/plain": [
       "[(array([ 187,   49,  124,  290,  426,  553,  662,  754,  863,  954, 1047]),\n",
       "  array([ 56, 187, 406, 287, 189, 367,  65, 315, 417,  44, 291]),\n",
       "  array([ 293,  154,  185,  388,  531,  613,  759,  853,  966, 1013, 1106]),\n",
       "  array([253, 383, 600, 496, 386, 559, 274, 526, 615, 236, 483]),\n",
       "  array([0, 0, 1, 2, 0, 1, 2, 2, 0, 1, 1])),\n",
       " (array([ 37, 183, 370, 519, 681, 927, 188, 364, 491, 608, 795]),\n",
       "  array([103,  35,  81,  73,  75, 135, 346, 410, 363, 385, 358]),\n",
       "  array([137, 287, 470, 579, 786, 989, 295, 469, 549, 707, 853]),\n",
       "  array([314, 233, 294, 265, 271, 328, 543, 610, 557, 595, 551]),\n",
       "  array([2, 0, 2, 1, 0, 1, 0, 0, 1, 2, 1])),\n",
       " (array([ 46, 199, 406, 519, 691, 965, 167, 284, 493, 616, 941]),\n",
       "  array([111,  36,  83, 204,  80, 136, 441, 380, 425, 454, 343]),\n",
       "  array([ 169,  289,  478,  563,  824, 1005,  221,  431,  536,  684, 1023]),\n",
       "  array([374, 200, 235, 349, 328, 266, 540, 655, 562, 601, 613]),\n",
       "  array([2, 0, 2, 1, 0, 1, 0, 0, 1, 2, 1]))]"
      ]
     },
     "execution_count": 175,
     "metadata": {},
     "output_type": "execute_result"
    }
   ],
   "source": [
    "for i in real_y_data:\n",
    "    for j in i:\n",
    "        print(j.dtype)\n",
    "real_y_data"
   ]
  },
  {
   "cell_type": "code",
   "execution_count": 160,
   "metadata": {},
   "outputs": [
    {
     "data": {
      "text/plain": [
       "[(array([ 187,   49,  124,  290,  426,  553,  662,  754,  863,  954, 1047]),\n",
       "  array([ 56, 187, 406, 287, 189, 367,  65, 315, 417,  44, 291]),\n",
       "  array([ 293,  154,  185,  388,  531,  613,  759,  853,  966, 1013, 1106]),\n",
       "  array([253, 383, 600, 496, 386, 559, 274, 526, 615, 236, 483]),\n",
       "  array([0, 0, 1, 2, 0, 1, 2, 2, 0, 1, 1])),\n",
       " (array([ 37, 183, 370, 519, 681, 927, 188, 364, 491, 608, 795]),\n",
       "  array([103,  35,  81,  73,  75, 135, 346, 410, 363, 385, 358]),\n",
       "  array([137, 287, 470, 579, 786, 989, 295, 469, 549, 707, 853]),\n",
       "  array([314, 233, 294, 265, 271, 328, 543, 610, 557, 595, 551]),\n",
       "  array([2, 0, 2, 1, 0, 1, 0, 0, 1, 2, 1])),\n",
       " (array([ 46, 199, 406, 519, 691, 965, 167, 284, 493, 616, 941]),\n",
       "  array([111,  36,  83, 204,  80, 136, 441, 380, 425, 454, 343]),\n",
       "  array([ 169,  289,  478,  563,  824, 1005,  221,  431,  536,  684, 1023]),\n",
       "  array([374, 200, 235, 349, 328, 266, 540, 655, 562, 601, 613]),\n",
       "  array([2, 0, 2, 1, 0, 1, 0, 0, 1, 2, 1]))]"
      ]
     },
     "execution_count": 160,
     "metadata": {},
     "output_type": "execute_result"
    }
   ],
   "source": [
    "real_y_data = []\n",
    "for j in range(len(y_data)):\n",
    "    li = []\n",
    "\n",
    "    for data in y_data[j]:\n",
    "        li.append(data[\"bbox\"])\n",
    "    li = np.array(li)\n",
    "    new = []\n",
    "    for i in range(li.shape[1]):\n",
    "        new.append(li[:,i])\n",
    "    y_data_each = tuple(new)\n",
    "    real_y_data.append(y_data_each)\n",
    "real_y_data"
   ]
  },
  {
   "cell_type": "code",
   "execution_count": 161,
   "metadata": {},
   "outputs": [
    {
     "data": {
      "text/plain": [
       "[(array([ 187,   49,  124,  290,  426,  553,  662,  754,  863,  954, 1047]),\n",
       "  array([ 56, 187, 406, 287, 189, 367,  65, 315, 417,  44, 291]),\n",
       "  array([ 293,  154,  185,  388,  531,  613,  759,  853,  966, 1013, 1106]),\n",
       "  array([253, 383, 600, 496, 386, 559, 274, 526, 615, 236, 483]),\n",
       "  array([0, 0, 1, 2, 0, 1, 2, 2, 0, 1, 1])),\n",
       " (array([ 37, 183, 370, 519, 681, 927, 188, 364, 491, 608, 795]),\n",
       "  array([103,  35,  81,  73,  75, 135, 346, 410, 363, 385, 358]),\n",
       "  array([137, 287, 470, 579, 786, 989, 295, 469, 549, 707, 853]),\n",
       "  array([314, 233, 294, 265, 271, 328, 543, 610, 557, 595, 551]),\n",
       "  array([2, 0, 2, 1, 0, 1, 0, 0, 1, 2, 1])),\n",
       " (array([ 46, 199, 406, 519, 691, 965, 167, 284, 493, 616, 941]),\n",
       "  array([111,  36,  83, 204,  80, 136, 441, 380, 425, 454, 343]),\n",
       "  array([ 169,  289,  478,  563,  824, 1005,  221,  431,  536,  684, 1023]),\n",
       "  array([374, 200, 235, 349, 328, 266, 540, 655, 562, 601, 613]),\n",
       "  array([2, 0, 2, 1, 0, 1, 0, 0, 1, 2, 1]))]"
      ]
     },
     "execution_count": 161,
     "metadata": {},
     "output_type": "execute_result"
    }
   ],
   "source": [
    "real_y_data"
   ]
  },
  {
   "cell_type": "code",
   "execution_count": 134,
   "metadata": {},
   "outputs": [
    {
     "name": "stdout",
     "output_type": "stream",
     "text": [
      "[ 952 1204]\n",
      "(952, 1204)\n",
      "(952, 1204) \n",
      "\n",
      "\n",
      "(677, 1094)\n",
      "(952, 1204) \n",
      "\n",
      "\n",
      "(677, 1097)\n",
      "(952, 1204) \n",
      "\n",
      "\n"
     ]
    }
   ],
   "source": [
    "y_data = []\n",
    "y_names = []\n",
    "max_shape = []\n",
    "for n in range(1,4):\n",
    "    \n",
    "    tree = elemTree.parse(\"./resource/scoreImg/random%s.xml\"%n)\n",
    "    sizeInfo = tree.find(\"./size\")\n",
    "    width = sizeInfo.find(\"./width\").text\n",
    "    height = sizeInfo.find(\"./height\").text\n",
    "    max_shape.append([height, width])\n",
    "    inner_data = []\n",
    "    for object in tree.findall(\"./object\"):\n",
    "        data ={}\n",
    "        name = object.find('name').text\n",
    "        if name not in y_names:\n",
    "            y_names.append(name)\n",
    "        bndbox = object.find('bndbox')\n",
    "        xmin = int(bndbox.find(\"./xmin\").text)\n",
    "        ymin = int(bndbox.find(\"./ymin\").text)\n",
    "        xmax = int(bndbox.find(\"./xmax\").text)\n",
    "        ymax = int(bndbox.find(\"./ymax\").text)\n",
    "        data[\"bbox\"] = [xmin, ymin, xmax, ymax, y_names.index(name)]\n",
    "        inner_data.append(data)\n",
    "    y_data.append(inner_data)\n",
    "num_classes = len(y_names)\n",
    "max_shape = np.array(max_shape).astype(int)\n",
    "max_shape = np.max(max_shape, axis = 0)\n",
    "print(max_shape)\n",
    "img_list= []\n",
    "for n in range(1,4):\n",
    "    img = cv2.imread(\"./resource/scoreImg/random%s.png\"%n, cv2.IMREAD_GRAYSCALE)\n",
    "    img = np.where(img > 127, 0, 255)\n",
    "    print(img.shape)\n",
    "    if img.shape[0] < max_shape[0]:\n",
    "        diff = max_shape[0]-img.shape[0]\n",
    "        img = np.concatenate([img, np.zeros((diff,img.shape[1]))], axis = 0)\n",
    "    if img.shape[1] < max_shape[1]:\n",
    "        diff = max_shape[1]-img.shape[1]\n",
    "        img = np.concatenate([img, np.zeros((img.shape[0], diff))], axis = 1)\n",
    "    print(img.shape, '\\n\\n')\n",
    "    img_list.append(img)\n",
    "# plt.imshow(np.resize(img, (800,1100)))"
   ]
  },
  {
   "cell_type": "code",
   "execution_count": 115,
   "metadata": {},
   "outputs": [
    {
     "name": "stderr",
     "output_type": "stream",
     "text": [
      "C:\\Users\\qhfkd\\AppData\\Local\\Temp\\ipykernel_28772\\1740156876.py:2: VisibleDeprecationWarning: Creating an ndarray from ragged nested sequences (which is a list-or-tuple of lists-or-tuples-or ndarrays with different lengths or shapes) is deprecated. If you meant to do this, you must specify 'dtype=object' when creating the ndarray.\n",
      "  y_data[i] = np.array([np.array(list(d.values())) for d in y_data[i]])\n"
     ]
    },
    {
     "data": {
      "text/plain": [
       "[array([[list(['187', '56', '293', '253']), 0],\n",
       "        [list(['49', '187', '154', '383']), 0],\n",
       "        [list(['124', '406', '185', '600']), 1],\n",
       "        [list(['290', '287', '388', '496']), 2],\n",
       "        [list(['426', '189', '531', '386']), 0],\n",
       "        [list(['553', '367', '613', '559']), 1],\n",
       "        [list(['662', '65', '759', '274']), 2],\n",
       "        [list(['754', '315', '853', '526']), 2],\n",
       "        [list(['863', '417', '966', '615']), 0],\n",
       "        [list(['954', '44', '1013', '236']), 1],\n",
       "        [list(['1047', '291', '1106', '483']), 1]], dtype=object),\n",
       " array([[list(['37', '103', '137', '314']), 2],\n",
       "        [list(['183', '35', '287', '233']), 0],\n",
       "        [list(['370', '81', '470', '294']), 2],\n",
       "        [list(['519', '73', '579', '265']), 1],\n",
       "        [list(['681', '75', '786', '271']), 0],\n",
       "        [list(['927', '135', '989', '328']), 1],\n",
       "        [list(['188', '346', '295', '543']), 0],\n",
       "        [list(['364', '410', '469', '610']), 0],\n",
       "        [list(['491', '363', '549', '557']), 1],\n",
       "        [list(['608', '385', '707', '595']), 2],\n",
       "        [list(['795', '358', '853', '551']), 1]], dtype=object),\n",
       " array([[list(['46', '111', '169', '374']), 2],\n",
       "        [list(['199', '36', '289', '200']), 0],\n",
       "        [list(['406', '83', '478', '235']), 2],\n",
       "        [list(['519', '204', '563', '349']), 1],\n",
       "        [list(['691', '80', '824', '328']), 0],\n",
       "        [list(['965', '136', '1005', '266']), 1],\n",
       "        [list(['167', '441', '221', '540']), 0],\n",
       "        [list(['284', '380', '431', '655']), 0],\n",
       "        [list(['493', '425', '536', '562']), 1],\n",
       "        [list(['616', '454', '684', '601']), 2],\n",
       "        [list(['941', '343', '1023', '613']), 1]], dtype=object)]"
      ]
     },
     "execution_count": 115,
     "metadata": {},
     "output_type": "execute_result"
    }
   ],
   "source": [
    "for i in range(len(y_data)):\n",
    "    y_data[i] = np.array([np.array(list(d.values())) for d in y_data[i]])\n",
    "y_data "
   ]
  },
  {
   "cell_type": "code",
   "execution_count": 35,
   "metadata": {},
   "outputs": [
    {
     "name": "stdout",
     "output_type": "stream",
     "text": [
      "['pal', 'sa', 'sipyuck']\n",
      "1097\n"
     ]
    }
   ],
   "source": [
    "print(y_names)\n",
    "y_data\n",
    "print(sizeInfo.find(\"./width\").text)\n"
   ]
  },
  {
   "cell_type": "markdown",
   "metadata": {},
   "source": []
  }
 ],
 "metadata": {
  "kernelspec": {
   "display_name": "base",
   "language": "python",
   "name": "python3"
  },
  "language_info": {
   "codemirror_mode": {
    "name": "ipython",
    "version": 3
   },
   "file_extension": ".py",
   "mimetype": "text/x-python",
   "name": "python",
   "nbconvert_exporter": "python",
   "pygments_lexer": "ipython3",
   "version": "3.9.12"
  },
  "orig_nbformat": 4
 },
 "nbformat": 4,
 "nbformat_minor": 2
}
